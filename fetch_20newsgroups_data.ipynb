{
  "nbformat": 4,
  "nbformat_minor": 0,
  "metadata": {
    "colab": {
      "name": "fetch_20newsgroups data.ipynb",
      "provenance": [],
      "collapsed_sections": [],
      "authorship_tag": "ABX9TyMHDMNb3Q9cS6VAZJUTHKhS",
      "include_colab_link": true
    },
    "kernelspec": {
      "name": "python3",
      "display_name": "Python 3"
    }
  },
  "cells": [
    {
      "cell_type": "markdown",
      "metadata": {
        "id": "view-in-github",
        "colab_type": "text"
      },
      "source": [
        "<a href=\"https://colab.research.google.com/github/provincit/colab_public/blob/main/fetch_20newsgroups_data.ipynb\" target=\"_parent\"><img src=\"https://colab.research.google.com/assets/colab-badge.svg\" alt=\"Open In Colab\"/></a>"
      ]
    },
    {
      "cell_type": "code",
      "metadata": {
        "id": "-SEdbXVd720t"
      },
      "source": [
        "from sklearn.datasets import fetch_20newsgroups\n",
        "from sklearn.feature_extraction.text import TfidfVectorizer\n",
        "from sklearn.naive_bayes import MultinomialNB\n",
        "from sklearn.pipeline import make_pipeline\n",
        "from sklearn.metrics import confusion_matrix, f1_score\n",
        "import matplotlib.pyplot as plt\n",
        "import seaborn as sns\n",
        "import numpy as np"
      ],
      "execution_count": 1,
      "outputs": []
    },
    {
      "cell_type": "code",
      "metadata": {
        "colab": {
          "base_uri": "https://localhost:8080/",
          "height": 659
        },
        "id": "odysmwf0785W",
        "outputId": "b937eb06-88f3-45d8-f401-63c66b2b26f8"
      },
      "source": [
        "def predict_category(s, m, t):\n",
        " pred = m.predict([s])\n",
        " return t[pred[0]]\n",
        "\n",
        "br = '\\n'\n",
        "train = fetch_20newsgroups(subset='train')\n",
        "test = fetch_20newsgroups(subset='test')\n",
        "print (train.target_names, br)\n",
        "categories = ['rec.autos', 'rec.motorcycles', 'sci.space', 'sci.med']\n",
        "train = fetch_20newsgroups(subset='train', categories=categories)\n",
        "test = fetch_20newsgroups(subset='test', categories=categories)\n",
        "print ('data subset:')\n",
        "print (train.target.shape, 'shape of train data')\n",
        "print (test.target.shape, 'shape of test data', br)\n",
        "targets = train.target_names\n",
        "mnb_clf = make_pipeline(TfidfVectorizer(), MultinomialNB())\n",
        "print ('<<' + mnb_clf.__class__.__name__ + '>>', br)\n",
        "mnb_clf.fit(train.data, train.target)\n",
        "labels = mnb_clf.predict(test.data)\n",
        "f1 = f1_score(test.target, labels, average='micro')\n",
        "print ('f1_score', f1, br)\n",
        "cm = confusion_matrix(test.target, labels)\n",
        "plt.figure('confusion matrix')\n",
        "sns.heatmap(cm.T, square=True, annot=True, fmt='d', cmap='gist_ncar_r',\n",
        "xticklabels=train.target_names, yticklabels=train.target_names, cbar=False)\n",
        "print ('sci.med predictions:')\n",
        "print (cm.T[2][2], 'correct predictions')\n",
        "print (cm.T[2][0], 'misclassified as rec.autos')\n",
        "print (cm.T[2][3], 'misclassified as sci.space')\n",
        "plt.xlabel('true label')\n",
        "plt.ylabel('predicted label')\n",
        "plt.tight_layout()\n",
        "print ('\\n***PREDICTIONS***:')\n",
        "y_pred = predict_category('payload on the mars rover', mnb_clf, targets)\n",
        "\n",
        "print (y_pred)\n",
        "y_pred = predict_category('car broke down on the highway', mnb_clf,\n",
        "targets)\n",
        "print (y_pred)\n",
        "y_pred = predict_category('dad died of cancer', mnb_clf, targets)\n",
        "print (y_pred)"
      ],
      "execution_count": 2,
      "outputs": [
        {
          "output_type": "stream",
          "text": [
            "['alt.atheism', 'comp.graphics', 'comp.os.ms-windows.misc', 'comp.sys.ibm.pc.hardware', 'comp.sys.mac.hardware', 'comp.windows.x', 'misc.forsale', 'rec.autos', 'rec.motorcycles', 'rec.sport.baseball', 'rec.sport.hockey', 'sci.crypt', 'sci.electronics', 'sci.med', 'sci.space', 'soc.religion.christian', 'talk.politics.guns', 'talk.politics.mideast', 'talk.politics.misc', 'talk.religion.misc'] \n",
            "\n",
            "data subset:\n",
            "(2379,) shape of train data\n",
            "(1584,) shape of test data \n",
            "\n",
            "<<Pipeline>> \n",
            "\n",
            "f1_score 0.9621212121212122 \n",
            "\n",
            "sci.med predictions:\n",
            "370 correct predictions\n",
            "1 misclassified as rec.autos\n",
            "7 misclassified as sci.space\n",
            "\n",
            "***PREDICTIONS***:\n",
            "sci.space\n",
            "rec.autos\n",
            "sci.med\n"
          ],
          "name": "stdout"
        },
        {
          "output_type": "display_data",
          "data": {
            "image/png": "[encoded data removed]",
            "text/plain": [
              "<Figure size 432x288 with 1 Axes>"
            ]
          },
          "metadata": {
            "tags": [],
            "needs_background": "light"
          }
        }
      ]
    },
    {
      "cell_type": "markdown",
      "metadata": {
        "id": "ltOqp6Dil76N"
      },
      "source": [
        "Tuning fetch_20newsgroups with a pipelined model"
      ]
    },
    {
      "cell_type": "code",
      "metadata": {
        "id": "S6JEt2zjl5dl"
      },
      "source": [
        "import time\n",
        "from sklearn.datasets import fetch_20newsgroups\n",
        "from sklearn.feature_extraction.text import TfidfVectorizer\n",
        "from sklearn.naive_bayes import MultinomialNB\n",
        "from sklearn.pipeline import make_pipeline\n",
        "from sklearn.metrics import f1_score\n",
        "\n",
        "from sklearn.model_selection import RandomizedSearchCV, cross_val_score"
      ],
      "execution_count": 3,
      "outputs": []
    },
    {
      "cell_type": "code",
      "metadata": {
        "id": "uD02J4HDq0ho"
      },
      "source": [
        "def get_cross(model, data, target, groups=10):\n",
        " return cross_val_score(model, data, target, cv=groups)"
      ],
      "execution_count": 4,
      "outputs": []
    },
    {
      "cell_type": "code",
      "metadata": {
        "colab": {
          "base_uri": "https://localhost:8080/"
        },
        "id": "CANfCaZkl5gQ",
        "outputId": "ee7cb576-b337-4990-fbf7-52b869e70fe4"
      },
      "source": [
        "train = fetch_20newsgroups(subset='train')\n",
        "test = fetch_20newsgroups(subset='test')\n",
        "categories = ['rec.autos', 'rec.motorcycles', 'sci.space', 'sci.med']\n",
        "train = fetch_20newsgroups(subset='train', categories=categories,\n",
        "remove=('headers', 'footers', 'quotes'))\n",
        "test = fetch_20newsgroups(subset='test', categories=categories,\n",
        "remove=('headers', 'footers', 'quotes'))\n",
        "targets = train.target_names\n",
        "mnb = MultinomialNB()\n",
        "tf = TfidfVectorizer()\n",
        "print (mnb, br)\n",
        "print (tf, br)\n",
        "pipe = make_pipeline(tf, mnb)\n",
        "pipe.fit(train.data, train.target)\n",
        "labels = pipe.predict(test.data)\n",
        "f1 = f1_score(test.target, labels, average='micro')\n",
        "print ('f1_score', f1, br)\n",
        "print (pipe.get_params().keys(), br)\n",
        "param_grid = {'tfidfvectorizer__ngram_range': [(1, 1), (1, 2)],\n",
        "'tfidfvectorizer__use_idf': [True, False],\n",
        "'multinomialnb__alpha': [1e-2, 1e-3],\n",
        "'multinomialnb__fit_prior': [True, False]}\n",
        "start = time.time()\n",
        "\n",
        "rand = RandomizedSearchCV(pipe, param_grid, cv=5, n_jobs = -1, random_state=0, n_iter=16, verbose=2)\n",
        "print('RandomizedSearchCV tuning time:')\n",
        "rand.fit(train.data, train.target)\n",
        "end_time = time.time()\n",
        "print(end_time-start)\n",
        "bp = rand.best_params_\n",
        "print ()\n",
        "print ('best parameters:')\n",
        "print (bp, br)\n",
        "rbs = rand.best_score_\n",
        "mnb = MultinomialNB(alpha=0.01)\n",
        "tf = TfidfVectorizer(ngram_range=(1, 1), use_idf=False)\n",
        "pipe = make_pipeline(tf, mnb)\n",
        "pipe.fit(train.data, train.target)\n",
        "labels = pipe.predict(test.data)\n",
        "f1 = f1_score(test.target, labels, average='micro')\n",
        "print ('f1_score', f1, br)\n",
        "\n",
        "\n",
        "print ('best parameters:')\n",
        "print (bp, br)\n",
        "start = time.time()\n",
        "scores = get_cross(pipe, train.data, train.target)\n",
        "end_time = time.time()\n",
        "print(end_time-start)\n",
        "print(\"Cross val\")\n",
        "print (np.mean(scores))"
      ],
      "execution_count": 7,
      "outputs": [
        {
          "output_type": "stream",
          "text": [
            "MultinomialNB(alpha=1.0, class_prior=None, fit_prior=True) \n",
            "\n",
            "TfidfVectorizer(analyzer='word', binary=False, decode_error='strict',\n",
            "                dtype=<class 'numpy.float64'>, encoding='utf-8',\n",
            "                input='content', lowercase=True, max_df=1.0, max_features=None,\n",
            "                min_df=1, ngram_range=(1, 1), norm='l2', preprocessor=None,\n",
            "                smooth_idf=True, stop_words=None, strip_accents=None,\n",
            "                sublinear_tf=False, token_pattern='(?u)\\\\b\\\\w\\\\w+\\\\b',\n",
            "                tokenizer=None, use_idf=True, vocabulary=None) \n",
            "\n",
            "f1_score 0.8440656565656567 \n",
            "\n",
            "dict_keys(['memory', 'steps', 'verbose', 'tfidfvectorizer', 'multinomialnb', 'tfidfvectorizer__analyzer', 'tfidfvectorizer__binary', 'tfidfvectorizer__decode_error', 'tfidfvectorizer__dtype', 'tfidfvectorizer__encoding', 'tfidfvectorizer__input', 'tfidfvectorizer__lowercase', 'tfidfvectorizer__max_df', 'tfidfvectorizer__max_features', 'tfidfvectorizer__min_df', 'tfidfvectorizer__ngram_range', 'tfidfvectorizer__norm', 'tfidfvectorizer__preprocessor', 'tfidfvectorizer__smooth_idf', 'tfidfvectorizer__stop_words', 'tfidfvectorizer__strip_accents', 'tfidfvectorizer__sublinear_tf', 'tfidfvectorizer__token_pattern', 'tfidfvectorizer__tokenizer', 'tfidfvectorizer__use_idf', 'tfidfvectorizer__vocabulary', 'multinomialnb__alpha', 'multinomialnb__class_prior', 'multinomialnb__fit_prior']) \n",
            "\n",
            "RandomizedSearchCV tuning time:\n",
            "Fitting 5 folds for each of 16 candidates, totalling 80 fits\n"
          ],
          "name": "stdout"
        },
        {
          "output_type": "stream",
          "text": [
            "[Parallel(n_jobs=-1)]: Using backend LokyBackend with 2 concurrent workers.\n",
            "[Parallel(n_jobs=-1)]: Done  37 tasks      | elapsed:   26.5s\n",
            "[Parallel(n_jobs=-1)]: Done  80 out of  80 | elapsed:   57.3s finished\n"
          ],
          "name": "stderr"
        },
        {
          "output_type": "stream",
          "text": [
            "57.68977117538452\n",
            "\n",
            "best parameters:\n",
            "{'tfidfvectorizer__use_idf': False, 'tfidfvectorizer__ngram_range': (1, 1), 'multinomialnb__fit_prior': False, 'multinomialnb__alpha': 0.01} \n",
            "\n",
            "f1_score 0.8611111111111112 \n",
            "\n",
            "best parameters:\n",
            "{'tfidfvectorizer__use_idf': False, 'tfidfvectorizer__ngram_range': (1, 1), 'multinomialnb__fit_prior': False, 'multinomialnb__alpha': 0.01} \n",
            "\n",
            "3.4414775371551514\n",
            "Cross val\n",
            "0.874736730135092\n"
          ],
          "name": "stdout"
        }
      ]
    },
    {
      "cell_type": "code",
      "metadata": {
        "id": "la2MSnLrl5i8"
      },
      "source": [
        ""
      ],
      "execution_count": 5,
      "outputs": []
    }
  ]
}