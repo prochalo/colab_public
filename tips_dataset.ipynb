{
  "nbformat": 4,
  "nbformat_minor": 0,
  "metadata": {
    "colab": {
      "name": "tips dataset.ipynb",
      "provenance": [],
      "authorship_tag": "ABX9TyOfrbyUXdqmL8dYaSGoW+nq",
      "include_colab_link": true
    },
    "kernelspec": {
      "name": "python3",
      "display_name": "Python 3"
    }
  },
  "cells": [
    {
      "cell_type": "markdown",
      "metadata": {
        "id": "view-in-github",
        "colab_type": "text"
      },
      "source": [
        "<a href=\"https://colab.research.google.com/github/provincit/colab_public/blob/main/tips_dataset.ipynb\" target=\"_parent\"><img src=\"https://colab.research.google.com/assets/colab-badge.svg\" alt=\"Open In Colab\"/></a>"
      ]
    },
    {
      "cell_type": "code",
      "metadata": {
        "id": "tqL1DK9bbbog"
      },
      "source": [
        "import numpy as np\n",
        "import pandas as pd\n",
        "import seaborn as sns\n",
        "\n"
      ],
      "execution_count": 1,
      "outputs": []
    },
    {
      "cell_type": "code",
      "metadata": {
        "colab": {
          "base_uri": "https://localhost:8080/"
        },
        "id": "72GpIcTnbgln",
        "outputId": "83dc3e55-ea22-47b2-a82e-059410402201"
      },
      "source": [
        "br = '\\n'\n",
        "sns.set(color_codes=True)\n",
        "tips = sns.load_dataset('tips')\n",
        "print (tips.head(), br)\n"
      ],
      "execution_count": 2,
      "outputs": [
        {
          "output_type": "stream",
          "text": [
            "   total_bill   tip     sex smoker  day    time  size\n",
            "0       16.99  1.01  Female     No  Sun  Dinner     2\n",
            "1       10.34  1.66    Male     No  Sun  Dinner     3\n",
            "2       21.01  3.50    Male     No  Sun  Dinner     3\n",
            "3       23.68  3.31    Male     No  Sun  Dinner     2\n",
            "4       24.59  3.61  Female     No  Sun  Dinner     4 \n",
            "\n"
          ],
          "name": "stdout"
        }
      ]
    },
    {
      "cell_type": "code",
      "metadata": {
        "colab": {
          "base_uri": "https://localhost:8080/"
        },
        "id": "AJb_UyaBd9g4",
        "outputId": "faad566d-9a70-412b-b1dd-e547ba501a3f"
      },
      "source": [
        "tips.isnull().sum()"
      ],
      "execution_count": 3,
      "outputs": [
        {
          "output_type": "execute_result",
          "data": {
            "text/plain": [
              "total_bill    0\n",
              "tip           0\n",
              "sex           0\n",
              "smoker        0\n",
              "day           0\n",
              "time          0\n",
              "size          0\n",
              "dtype: int64"
            ]
          },
          "metadata": {
            "tags": []
          },
          "execution_count": 3
        }
      ]
    },
    {
      "cell_type": "code",
      "metadata": {
        "id": "wxjXfaZpb8Mr"
      },
      "source": [
        "\n",
        "from sklearn.ensemble import RandomForestRegressor\n",
        "from sklearn.impute import SimpleImputer\n",
        "from sklearn.linear_model import LinearRegression\n",
        "from sklearn.model_selection import train_test_split\n",
        "from sklearn.metrics import mean_squared_error"
      ],
      "execution_count": 4,
      "outputs": []
    },
    {
      "cell_type": "code",
      "metadata": {
        "colab": {
          "base_uri": "https://localhost:8080/"
        },
        "id": "vUg-RwWvc0NE",
        "outputId": "29b64b69-31c3-4f32-b316-8c0efd8bd9de"
      },
      "source": [
        "br = '\\n'\n",
        "\n",
        "\n",
        "data = tips.drop(['tip'], axis=1)\n",
        "target = tips['tip']\n",
        "data = pd.get_dummies(data, columns=['sex', 'smoker','day', 'time'])\n",
        "\n",
        "X = data.values\n",
        "y = target.values\n",
        "print ('X and y shapes (post conversion):')\n",
        "print (X.shape, y.shape, br)\n"
      ],
      "execution_count": 5,
      "outputs": [
        {
          "output_type": "stream",
          "text": [
            "X and y shapes (post conversion):\n",
            "(244, 12) (244,) \n",
            "\n"
          ],
          "name": "stdout"
        }
      ]
    },
    {
      "cell_type": "code",
      "metadata": {
        "colab": {
          "base_uri": "https://localhost:8080/"
        },
        "id": "u3AqsFIac11z",
        "outputId": "70f6eaa2-20db-4881-d0f7-31df37b3b949"
      },
      "source": [
        "\n",
        "rfr = RandomForestRegressor(random_state=0, n_estimators=100)\n",
        "rfr.fit(X, y)\n",
        "print ('feature importance (first 6 features):')\n",
        "feature_importances = rfr.feature_importances_\n",
        "features = list(data.columns.values)\n",
        "importance = sorted(zip(feature_importances, features), reverse=True)\n",
        "[print (row) for i, row in enumerate(importance) if i < 6]\n",
        "print ()\n",
        "X_train, X_test, y_train, y_test = train_test_split(\n",
        "X, y, random_state=0)"
      ],
      "execution_count": 6,
      "outputs": [
        {
          "output_type": "stream",
          "text": [
            "feature importance (first 6 features):\n",
            "(0.763320323509417, 'total_bill')\n",
            "(0.06472915414124665, 'size')\n",
            "(0.0358517935578476, 'smoker_No')\n",
            "(0.03572877523497224, 'smoker_Yes')\n",
            "(0.02393573971034533, 'day_Sat')\n",
            "(0.022073551311225303, 'day_Sun')\n",
            "\n"
          ],
          "name": "stdout"
        }
      ]
    },
    {
      "cell_type": "code",
      "metadata": {
        "colab": {
          "base_uri": "https://localhost:8080/"
        },
        "id": "Uq15F0MKb8Pd",
        "outputId": "80f6dabf-992a-4edf-cad4-e916265554d3"
      },
      "source": [
        "\n",
        "\n",
        "\n",
        "model = LinearRegression()\n",
        "model_name = model.__class__.__name__\n",
        "print ('<<' + model_name + '>>', br)\n",
        "model.fit(X_train, y_train)\n",
        "y_pred = model.predict(X_test)\n",
        "rmse = np.sqrt(mean_squared_error(y_test, y_pred))\n",
        "print (rmse, '(rmse)', br)\n",
        "print ('predict from new data:')\n",
        "\n"
      ],
      "execution_count": 7,
      "outputs": [
        {
          "output_type": "stream",
          "text": [
            "<<LinearRegression>> \n",
            "\n",
            "0.9636287548943023 (rmse) \n",
            "\n",
            "predict from new data:\n"
          ],
          "name": "stdout"
        }
      ]
    },
    {
      "cell_type": "markdown",
      "metadata": {
        "id": "TUaKxGdxqfCC"
      },
      "source": [
        "Predict New data"
      ]
    },
    {
      "cell_type": "code",
      "metadata": {
        "id": "xvToTp04pCQZ"
      },
      "source": [
        "\n",
        "\n",
        "df1 = pd.get_dummies(pd.DataFrame({'total_bill':[17.23],'sex':['Female'], 'smoker': ['Yes'], 'day': ['Sun'], 'time': ['dinner'], 'size': [3]}))\n",
        "# dummies_frame = pd.get_dummies(df)\n",
        "new_df = df1.reindex(columns = data.columns, fill_value=0)"
      ],
      "execution_count": 8,
      "outputs": []
    },
    {
      "cell_type": "code",
      "metadata": {
        "colab": {
          "base_uri": "https://localhost:8080/"
        },
        "id": "FBuqnYrqhVaA",
        "outputId": "5f6571d2-ee15-4a0c-90c4-a58432143afd"
      },
      "source": [
        "# define input\n",
        "new_input = new_df.values\n",
        "# get prediction for new input\n",
        "new_output = model.predict(new_input)\n",
        "# summarize input and output\n",
        "print(new_input, new_output)"
      ],
      "execution_count": 9,
      "outputs": [
        {
          "output_type": "stream",
          "text": [
            "[[17.23  3.    0.    1.    1.    0.    0.    0.    0.    1.    0.    0.  ]] [2.96520264]\n"
          ],
          "name": "stdout"
        }
      ]
    }
  ]
}