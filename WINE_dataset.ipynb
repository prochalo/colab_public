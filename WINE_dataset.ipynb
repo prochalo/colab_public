{
  "nbformat": 4,
  "nbformat_minor": 0,
  "metadata": {
    "colab": {
      "name": "WINE_dataset.ipynb",
      "provenance": [],
      "collapsed_sections": [],
      "authorship_tag": "ABX9TyOA4TJ0IYB9LZN3un2qj1Q/",
      "include_colab_link": true
    },
    "kernelspec": {
      "name": "python3",
      "display_name": "Python 3"
    }
  },
  "cells": [
    {
      "cell_type": "markdown",
      "metadata": {
        "id": "view-in-github",
        "colab_type": "text"
      },
      "source": [
        "<a href=\"https://colab.research.google.com/github/provincit/colab_public/blob/main/WINE_dataset.ipynb\" target=\"_parent\"><img src=\"https://colab.research.google.com/assets/colab-badge.svg\" alt=\"Open In Colab\"/></a>"
      ]
    },
    {
      "cell_type": "code",
      "metadata": {
        "id": "jPAPeip8AGOC"
      },
      "source": [
        "from sklearn.datasets import load_wine\n",
        "from sklearn.ensemble import RandomForestClassifier\n"
      ],
      "execution_count": 1,
      "outputs": []
    },
    {
      "cell_type": "code",
      "metadata": {
        "colab": {
          "base_uri": "https://localhost:8080/"
        },
        "id": "_82hFdqo7OTy",
        "outputId": "5628ff86-f0c1-4415-e5b6-e0d1be1d218a"
      },
      "source": [
        "\n",
        "br = '\\n'\n",
        "data = load_wine()\n",
        "keys = data.keys()\n",
        "print (keys, br)\n",
        "X, y = data.data, data.target\n",
        "print ('features:', X.shape)\n",
        "print ('targets', y.shape, br)\n",
        "print (X[0], br)\n",
        "features = data.feature_names\n",
        "targets = data.target_names\n",
        "print ('feature set:')\n",
        "print (features, br)\n",
        "print ('targets:')\n",
        "print (targets, br)\n",
        "rnd_clf = RandomForestClassifier(random_state=0,\n",
        "n_estimators=100)\n",
        "rnd_clf.fit(X, y)\n",
        "rnd_name = rnd_clf.__class__.__name__\n",
        "feature_importances = rnd_clf.feature_importances_\n",
        "importance = sorted(zip(feature_importances, features),\n",
        "reverse=True)\n",
        "n = 6\n",
        "print (n, 'most important features' + ' (' + rnd_name + '):')\n",
        "[print (row) for i, row in enumerate(importance) if i < n]"
      ],
      "execution_count": 3,
      "outputs": [
        {
          "output_type": "stream",
          "text": [
            "dict_keys(['data', 'target', 'target_names', 'DESCR', 'feature_names']) \n",
            "\n",
            "features: (178, 13)\n",
            "targets (178,) \n",
            "\n",
            "[1.423e+01 1.710e+00 2.430e+00 1.560e+01 1.270e+02 2.800e+00 3.060e+00\n",
            " 2.800e-01 2.290e+00 5.640e+00 1.040e+00 3.920e+00 1.065e+03] \n",
            "\n",
            "feature set:\n",
            "['alcohol', 'malic_acid', 'ash', 'alcalinity_of_ash', 'magnesium', 'total_phenols', 'flavanoids', 'nonflavanoid_phenols', 'proanthocyanins', 'color_intensity', 'hue', 'od280/od315_of_diluted_wines', 'proline'] \n",
            "\n",
            "targets:\n",
            "['class_0' 'class_1' 'class_2'] \n",
            "\n",
            "6 most important features (RandomForestClassifier):\n",
            "(0.19399882779940297, 'proline')\n",
            "(0.16095401215681596, 'flavanoids')\n",
            "(0.14526673645591434, 'color_intensity')\n",
            "(0.11070045042456282, 'alcohol')\n",
            "(0.10974652627174931, 'od280/od315_of_diluted_wines')\n",
            "(0.08968972021098302, 'hue')\n"
          ],
          "name": "stdout"
        },
        {
          "output_type": "execute_result",
          "data": {
            "text/plain": [
              "[None, None, None, None, None, None]"
            ]
          },
          "metadata": {
            "tags": []
          },
          "execution_count": 3
        }
      ]
    }
  ]
}