{
  "nbformat": 4,
  "nbformat_minor": 0,
  "metadata": {
    "colab": {
      "name": "boston dataset.ipynb",
      "provenance": [],
      "collapsed_sections": [],
      "authorship_tag": "ABX9TyNEpgNzhYH2/nctPdY9HQBH",
      "include_colab_link": true
    },
    "kernelspec": {
      "name": "python3",
      "display_name": "Python 3"
    }
  },
  "cells": [
    {
      "cell_type": "markdown",
      "metadata": {
        "id": "view-in-github",
        "colab_type": "text"
      },
      "source": [
        "<a href=\"https://colab.research.google.com/github/provincit/colab_public/blob/main/boston_dataset.ipynb\" target=\"_parent\"><img src=\"https://colab.research.google.com/assets/colab-badge.svg\" alt=\"Open In Colab\"/></a>"
      ]
    },
    {
      "cell_type": "code",
      "metadata": {
        "id": "U8wVJxQkoqKW"
      },
      "source": [
        "import numpy as np, pandas as pd\n",
        "from sklearn.datasets import load_boston\n",
        "from sklearn.model_selection import train_test_split\n",
        "from sklearn.ensemble import RandomForestRegressor\n",
        "from sklearn.metrics import mean_squared_error"
      ],
      "execution_count": 1,
      "outputs": []
    },
    {
      "cell_type": "code",
      "metadata": {
        "colab": {
          "base_uri": "https://localhost:8080/"
        },
        "id": "iinEQwZsoxXd",
        "outputId": "ed4c55e7-4342-48e8-e9cf-b40774225d12"
      },
      "source": [
        "\n",
        "\n",
        "br = '\\n'\n",
        "boston = load_boston()\n",
        "X = boston.data\n",
        "y = boston.target\n",
        "print ('feature shape', X.shape)\n",
        "print ('target shape', y.shape, br)\n",
        "keys = boston.keys()\n",
        "rfr = RandomForestRegressor(random_state=0, n_estimators=100)\n",
        "rfr.fit(X, y)\n",
        "features = boston.feature_names\n",
        "feature_importances = rfr.feature_importances_\n",
        "importance = sorted(zip(feature_importances, features), reverse=True)\n",
        "\n",
        "[print (row) for row in importance]\n",
        "print ()\n",
        "X_train, X_test, y_train, y_test = train_test_split(\n",
        "X, y, random_state=0)\n",
        "rfr = RandomForestRegressor(random_state=0, n_estimators=100)\n",
        "rfr.fit(X_train, y_train)\n",
        "rfr_name = rfr.__class__.__name__\n",
        "y_pred = rfr.predict(X_test)\n",
        "rmse = np.sqrt(mean_squared_error(y_test, y_pred))\n",
        "print (rfr_name + ' (rmse):', rmse, br)\n",
        "cols = list(features) + ['target']\n",
        "data = pd.DataFrame(data=np.c_[X, y], columns=cols)\n",
        "print ('boston dataset sample:')\n",
        "print (data[['RM', 'LSTAT', 'DIS', 'CRIM', 'NOX', 'PTRATIO', 'target']].\n",
        "head(3), br)\n",
        "print ('data set before removing noise:', data.shape)\n",
        "noise = data.loc[data['target'] >= 50]\n",
        "data = data.drop(noise.index)\n",
        "print ('data set without noise:', data.shape, br)\n",
        "X = data.loc[:, data.columns != 'target'].values\n",
        "y = data['target'].values\n",
        "print ('cleansed feature shape:', X.shape)\n",
        "print ('cleansed target shape:', y.shape, br)\n",
        "X_train, X_test, y_train, y_test = train_test_split(\n",
        "X, y, random_state=0)\n",
        "rfr = RandomForestRegressor(random_state=0, n_estimators=100)\n",
        "rfr.fit(X_train, y_train)\n",
        "y_pred = rfr.predict(X_test)\n",
        "rmse = np.sqrt(mean_squared_error(y_test, y_pred))\n",
        "print (rfr_name + ' (rmse):', rmse)"
      ],
      "execution_count": 2,
      "outputs": [
        {
          "output_type": "stream",
          "text": [
            "feature shape (506, 13)\n",
            "target shape (506,) \n",
            "\n",
            "(0.45730362625767507, 'RM')\n",
            "(0.3500866188568138, 'LSTAT')\n",
            "(0.06518862820215897, 'DIS')\n",
            "(0.040989617257000996, 'CRIM')\n",
            "(0.02024797563034355, 'NOX')\n",
            "(0.015576365835498521, 'PTRATIO')\n",
            "(0.015524054184831325, 'TAX')\n",
            "(0.01176430855604393, 'AGE')\n",
            "(0.011324966974602937, 'B')\n",
            "(0.005912139937999769, 'INDUS')\n",
            "(0.003916064249793194, 'RAD')\n",
            "(0.0011173446269339181, 'ZN')\n",
            "(0.001048289430304092, 'CHAS')\n",
            "\n",
            "RandomForestRegressor (rmse): 4.091149842219918 \n",
            "\n",
            "boston dataset sample:\n",
            "      RM  LSTAT     DIS     CRIM    NOX  PTRATIO  target\n",
            "0  6.575   4.98  4.0900  0.00632  0.538     15.3    24.0\n",
            "1  6.421   9.14  4.9671  0.02731  0.469     17.8    21.6\n",
            "2  7.185   4.03  4.9671  0.02729  0.469     17.8    34.7 \n",
            "\n",
            "data set before removing noise: (506, 14)\n",
            "data set without noise: (490, 14) \n",
            "\n",
            "cleansed feature shape: (490, 13)\n",
            "cleansed target shape: (490,) \n",
            "\n",
            "RandomForestRegressor (rmse): 3.37169151536684\n"
          ],
          "name": "stdout"
        }
      ]
    },
    {
      "cell_type": "markdown",
      "metadata": {
        "id": "VZkxIoHVpdw7"
      },
      "source": [
        "Exploring boston data with regression algorithms"
      ]
    },
    {
      "cell_type": "code",
      "metadata": {
        "id": "y6k6Mhucpa-e"
      },
      "source": [
        "import numpy as np\n",
        "from sklearn.datasets import load_boston\n",
        "from sklearn.model_selection import train_test_split\n",
        "from sklearn.linear_model import LinearRegression, Ridge, Lasso, ElasticNet, SGDRegressor\n",
        "from sklearn.ensemble import RandomForestRegressor\n",
        "from sklearn.metrics import mean_squared_error\n",
        "from sklearn.preprocessing import StandardScaler"
      ],
      "execution_count": 3,
      "outputs": []
    },
    {
      "cell_type": "code",
      "metadata": {
        "colab": {
          "base_uri": "https://localhost:8080/"
        },
        "id": "ThGY4LuppjkP",
        "outputId": "0a8e2448-e689-49d4-85b4-15464846183b"
      },
      "source": [
        "def get_scores(model, Xtest, ytest):\n",
        " y_pred = model.predict(Xtest)\n",
        " return np.sqrt(mean_squared_error(ytest, y_pred)), model.__class__.__name__\n",
        "\n",
        "br = '\\n'\n",
        "\n",
        "boston = load_boston()\n",
        "X = boston.data\n",
        "y = boston.target\n",
        "\n",
        "print ('feature shape', X.shape)\n",
        "print ('target shape', y.shape, br)\n",
        "X_train, X_test, y_train, y_test = train_test_split( X, y, random_state=0)\n",
        "print ('rmse:')\n",
        "rfr = RandomForestRegressor(random_state=0, n_estimators=100)\n",
        "rfr.fit(X_train, y_train)\n",
        "rmse, rfr_name = get_scores(rfr, X_test, y_test)\n",
        "print (rmse, '(' + rfr_name + ')')\n",
        "lr = LinearRegression().fit(X_train, y_train)\n",
        "rmse, lr_name = get_scores(lr, X_test, y_test)\n",
        "print (rmse, '(' + lr_name + ')')\n",
        "ridge = Ridge(random_state=0).fit(X_train, y_train)\n",
        "rmse, ridge_name = get_scores(ridge, X_test, y_test)\n",
        "print (rmse, '(' + ridge_name + ')')\n",
        "lasso = Lasso(random_state=0).fit(X_train, y_train)\n",
        "rmse, lasso_name = get_scores(lasso, X_test, y_test)\n",
        "print (rmse, '(' + lasso_name + ')')\n",
        "en = ElasticNet(random_state=0).fit(X_train, y_train)\n",
        "rmse, en_name = get_scores(en, X_test, y_test)\n",
        "print (rmse, '(' + en_name + ')')\n",
        "scaler = StandardScaler()\n",
        "X_train_std = scaler.fit_transform(X_train)\n",
        "X_test_std = scaler.fit_transform(X_test)\n",
        "sgdr_std = SGDRegressor(random_state=0, max_iter=1000, tol=0.001)\n",
        "sgdr_std.fit(X_train_std, y_train)\n",
        "rmse, sgdr_name = get_scores(sgdr_std, X_test_std, y_test)\n",
        "print (rmse, '(' + sgdr_name + ' - scaled)')"
      ],
      "execution_count": 4,
      "outputs": [
        {
          "output_type": "stream",
          "text": [
            "feature shape (506, 13)\n",
            "target shape (506,) \n",
            "\n",
            "rmse:\n",
            "4.091149842219918 (RandomForestRegressor)\n",
            "5.457311159564069 (LinearRegression)\n",
            "5.523126267867206 (Ridge)\n",
            "6.052422661571132 (Lasso)\n",
            "5.993473468736907 (ElasticNet)\n",
            "5.614093877555352 (SGDRegressor - scaled)\n"
          ],
          "name": "stdout"
        }
      ]
    }
  ]
}